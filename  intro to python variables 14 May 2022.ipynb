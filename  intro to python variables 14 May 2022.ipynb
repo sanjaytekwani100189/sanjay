{
 "cells": [
  {
   "cell_type": "code",
   "execution_count": 1,
   "id": "b35a6be2",
   "metadata": {},
   "outputs": [
    {
     "data": {
      "text/plain": [
       "2"
      ]
     },
     "execution_count": 1,
     "metadata": {},
     "output_type": "execute_result"
    }
   ],
   "source": [
    "1+1"
   ]
  },
  {
   "cell_type": "markdown",
   "id": "ac1f5288",
   "metadata": {},
   "source": [
    "Variable is a kind of entity where we can store the data"
   ]
  },
  {
   "cell_type": "code",
   "execution_count": 1,
   "id": "d30f7db9",
   "metadata": {},
   "outputs": [],
   "source": [
    "a = 10"
   ]
  },
  {
   "cell_type": "code",
   "execution_count": 2,
   "id": "b9eb036f",
   "metadata": {},
   "outputs": [
    {
     "data": {
      "text/plain": [
       "10"
      ]
     },
     "execution_count": 2,
     "metadata": {},
     "output_type": "execute_result"
    }
   ],
   "source": [
    "a"
   ]
  },
  {
   "cell_type": "code",
   "execution_count": 3,
   "id": "31d7f7e5",
   "metadata": {},
   "outputs": [
    {
     "data": {
      "text/plain": [
       "8"
      ]
     },
     "execution_count": 3,
     "metadata": {},
     "output_type": "execute_result"
    }
   ],
   "source": [
    "a - 2"
   ]
  },
  {
   "cell_type": "code",
   "execution_count": 4,
   "id": "9323edeb",
   "metadata": {},
   "outputs": [
    {
     "data": {
      "text/plain": [
       "int"
      ]
     },
     "execution_count": 4,
     "metadata": {},
     "output_type": "execute_result"
    }
   ],
   "source": [
    "type(a)"
   ]
  },
  {
   "cell_type": "code",
   "execution_count": 5,
   "id": "ef1200ef",
   "metadata": {},
   "outputs": [],
   "source": [
    "b = 30.09"
   ]
  },
  {
   "cell_type": "code",
   "execution_count": 6,
   "id": "b59f4482",
   "metadata": {},
   "outputs": [
    {
     "data": {
      "text/plain": [
       "float"
      ]
     },
     "execution_count": 6,
     "metadata": {},
     "output_type": "execute_result"
    }
   ],
   "source": [
    "type(b)"
   ]
  },
  {
   "cell_type": "code",
   "execution_count": 7,
   "id": "0ba90640",
   "metadata": {},
   "outputs": [],
   "source": [
    "c = \"My name is sanjay\""
   ]
  },
  {
   "cell_type": "code",
   "execution_count": 8,
   "id": "8b8b5eaa",
   "metadata": {},
   "outputs": [
    {
     "data": {
      "text/plain": [
       "str"
      ]
     },
     "execution_count": 8,
     "metadata": {},
     "output_type": "execute_result"
    }
   ],
   "source": [
    "type(c)"
   ]
  },
  {
   "cell_type": "code",
   "execution_count": 10,
   "id": "a554738d",
   "metadata": {},
   "outputs": [],
   "source": [
    "d = True"
   ]
  },
  {
   "cell_type": "code",
   "execution_count": 11,
   "id": "f298dad9",
   "metadata": {},
   "outputs": [
    {
     "data": {
      "text/plain": [
       "bool"
      ]
     },
     "execution_count": 11,
     "metadata": {},
     "output_type": "execute_result"
    }
   ],
   "source": [
    "type(d)"
   ]
  },
  {
   "cell_type": "code",
   "execution_count": 12,
   "id": "fbb85656",
   "metadata": {},
   "outputs": [],
   "source": [
    "e = False"
   ]
  },
  {
   "cell_type": "code",
   "execution_count": 13,
   "id": "1ccf3884",
   "metadata": {},
   "outputs": [
    {
     "data": {
      "text/plain": [
       "1"
      ]
     },
     "execution_count": 13,
     "metadata": {},
     "output_type": "execute_result"
    }
   ],
   "source": [
    "d - e"
   ]
  },
  {
   "cell_type": "code",
   "execution_count": 14,
   "id": "3ca0ca28",
   "metadata": {},
   "outputs": [
    {
     "data": {
      "text/plain": [
       "0"
      ]
     },
     "execution_count": 14,
     "metadata": {},
     "output_type": "execute_result"
    }
   ],
   "source": [
    "d - d"
   ]
  },
  {
   "cell_type": "code",
   "execution_count": 15,
   "id": "9ddaa913",
   "metadata": {},
   "outputs": [
    {
     "data": {
      "text/plain": [
       "0"
      ]
     },
     "execution_count": 15,
     "metadata": {},
     "output_type": "execute_result"
    }
   ],
   "source": [
    "e - e"
   ]
  },
  {
   "cell_type": "code",
   "execution_count": 16,
   "id": "256328f2",
   "metadata": {},
   "outputs": [
    {
     "data": {
      "text/plain": [
       "1"
      ]
     },
     "execution_count": 16,
     "metadata": {},
     "output_type": "execute_result"
    }
   ],
   "source": [
    "d + e"
   ]
  },
  {
   "cell_type": "code",
   "execution_count": 17,
   "id": "ee4b44f5",
   "metadata": {},
   "outputs": [
    {
     "ename": "ZeroDivisionError",
     "evalue": "division by zero",
     "output_type": "error",
     "traceback": [
      "\u001b[1;31m---------------------------------------------------------------------------\u001b[0m",
      "\u001b[1;31mZeroDivisionError\u001b[0m                         Traceback (most recent call last)",
      "Cell \u001b[1;32mIn[17], line 1\u001b[0m\n\u001b[1;32m----> 1\u001b[0m d\u001b[38;5;241m/\u001b[39me\n",
      "\u001b[1;31mZeroDivisionError\u001b[0m: division by zero"
     ]
    }
   ],
   "source": [
    "d/e"
   ]
  },
  {
   "cell_type": "code",
   "execution_count": 18,
   "id": "39f99208",
   "metadata": {},
   "outputs": [
    {
     "data": {
      "text/plain": [
       "0"
      ]
     },
     "execution_count": 18,
     "metadata": {},
     "output_type": "execute_result"
    }
   ],
   "source": [
    "d*e"
   ]
  },
  {
   "cell_type": "code",
   "execution_count": 19,
   "id": "c81b353d",
   "metadata": {},
   "outputs": [],
   "source": [
    "f = 5+7j"
   ]
  },
  {
   "cell_type": "code",
   "execution_count": 20,
   "id": "dd4ea9ae",
   "metadata": {},
   "outputs": [
    {
     "data": {
      "text/plain": [
       "complex"
      ]
     },
     "execution_count": 20,
     "metadata": {},
     "output_type": "execute_result"
    }
   ],
   "source": [
    "type(f)"
   ]
  },
  {
   "cell_type": "code",
   "execution_count": 21,
   "id": "05bd1e22",
   "metadata": {},
   "outputs": [
    {
     "data": {
      "text/plain": [
       "(10+14j)"
      ]
     },
     "execution_count": 21,
     "metadata": {},
     "output_type": "execute_result"
    }
   ],
   "source": [
    "f+f"
   ]
  },
  {
   "cell_type": "code",
   "execution_count": 22,
   "id": "8b058d08",
   "metadata": {},
   "outputs": [
    {
     "data": {
      "text/plain": [
       "(-24+70j)"
      ]
     },
     "execution_count": 22,
     "metadata": {},
     "output_type": "execute_result"
    }
   ],
   "source": [
    "f*f"
   ]
  },
  {
   "cell_type": "code",
   "execution_count": 23,
   "id": "5eef6828",
   "metadata": {},
   "outputs": [
    {
     "data": {
      "text/plain": [
       "5.0"
      ]
     },
     "execution_count": 23,
     "metadata": {},
     "output_type": "execute_result"
    }
   ],
   "source": [
    "f.real"
   ]
  },
  {
   "cell_type": "code",
   "execution_count": 24,
   "id": "d8ce4385",
   "metadata": {},
   "outputs": [
    {
     "data": {
      "text/plain": [
       "7.0"
      ]
     },
     "execution_count": 24,
     "metadata": {},
     "output_type": "execute_result"
    }
   ],
   "source": [
    "f.imag"
   ]
  },
  {
   "cell_type": "code",
   "execution_count": 25,
   "id": "cba61ab5",
   "metadata": {},
   "outputs": [
    {
     "data": {
      "text/plain": [
       "<function complex.conjugate()>"
      ]
     },
     "execution_count": 25,
     "metadata": {},
     "output_type": "execute_result"
    }
   ],
   "source": [
    "f.conjugate"
   ]
  },
  {
   "cell_type": "code",
   "execution_count": 26,
   "id": "35bdbb81",
   "metadata": {},
   "outputs": [
    {
     "data": {
      "text/plain": [
       "(25+35j)"
      ]
     },
     "execution_count": 26,
     "metadata": {},
     "output_type": "execute_result"
    }
   ],
   "source": [
    "f*f.real"
   ]
  },
  {
   "cell_type": "code",
   "execution_count": 27,
   "id": "3663ff9e",
   "metadata": {},
   "outputs": [
    {
     "data": {
      "text/plain": [
       "(35+49j)"
      ]
     },
     "execution_count": 27,
     "metadata": {},
     "output_type": "execute_result"
    }
   ],
   "source": [
    "f*f.imag"
   ]
  },
  {
   "cell_type": "code",
   "execution_count": 28,
   "id": "72efaf57",
   "metadata": {},
   "outputs": [],
   "source": [
    "list = [3,4,5,6,\"sanjay\",True,5+3j,443]"
   ]
  },
  {
   "cell_type": "code",
   "execution_count": 29,
   "id": "5eb81ed2",
   "metadata": {},
   "outputs": [
    {
     "data": {
      "text/plain": [
       "list"
      ]
     },
     "execution_count": 29,
     "metadata": {},
     "output_type": "execute_result"
    }
   ],
   "source": [
    "type(list)"
   ]
  },
  {
   "cell_type": "code",
   "execution_count": 30,
   "id": "a025132b",
   "metadata": {},
   "outputs": [
    {
     "data": {
      "text/plain": [
       "4"
      ]
     },
     "execution_count": 30,
     "metadata": {},
     "output_type": "execute_result"
    }
   ],
   "source": [
    "list[1]"
   ]
  },
  {
   "cell_type": "code",
   "execution_count": 31,
   "id": "a8e88224",
   "metadata": {},
   "outputs": [
    {
     "data": {
      "text/plain": [
       "'sanjay'"
      ]
     },
     "execution_count": 31,
     "metadata": {},
     "output_type": "execute_result"
    }
   ],
   "source": [
    "list[4]"
   ]
  },
  {
   "cell_type": "code",
   "execution_count": 34,
   "id": "ae63e05b",
   "metadata": {},
   "outputs": [],
   "source": [
    "tuple = (34,23,564,665,675,\"Sanjay\",True)"
   ]
  },
  {
   "cell_type": "code",
   "execution_count": 35,
   "id": "1179df26",
   "metadata": {},
   "outputs": [
    {
     "data": {
      "text/plain": [
       "tuple"
      ]
     },
     "execution_count": 35,
     "metadata": {},
     "output_type": "execute_result"
    }
   ],
   "source": [
    "type(tuple)"
   ]
  },
  {
   "cell_type": "code",
   "execution_count": 36,
   "id": "91cf8cf5",
   "metadata": {},
   "outputs": [],
   "source": [
    "dictionary = {'a' : \"Sanjay\" , 'b' : \"Tekwani\"}"
   ]
  },
  {
   "cell_type": "code",
   "execution_count": 37,
   "id": "698fe07a",
   "metadata": {},
   "outputs": [
    {
     "data": {
      "text/plain": [
       "dict"
      ]
     },
     "execution_count": 37,
     "metadata": {},
     "output_type": "execute_result"
    }
   ],
   "source": [
    "type(dictionary)"
   ]
  },
  {
   "cell_type": "code",
   "execution_count": null,
   "id": "50ab5f8b",
   "metadata": {},
   "outputs": [],
   "source": []
  },
  {
   "cell_type": "code",
   "execution_count": null,
   "id": "fe26bf11",
   "metadata": {},
   "outputs": [],
   "source": []
  }
 ],
 "metadata": {
  "kernelspec": {
   "display_name": "Python 3 (ipykernel)",
   "language": "python",
   "name": "python3"
  },
  "language_info": {
   "codemirror_mode": {
    "name": "ipython",
    "version": 3
   },
   "file_extension": ".py",
   "mimetype": "text/x-python",
   "name": "python",
   "nbconvert_exporter": "python",
   "pygments_lexer": "ipython3",
   "version": "3.11.5"
  }
 },
 "nbformat": 4,
 "nbformat_minor": 5
}
